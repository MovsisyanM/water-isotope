{
 "cells": [
  {
   "cell_type": "markdown",
   "metadata": {
    "papermill": {
     "duration": 0.010025,
     "end_time": "2021-03-27T10:04:00.890920",
     "exception": false,
     "start_time": "2021-03-27T10:04:00.880895",
     "status": "completed"
    },
    "tags": []
   },
   "source": [
    "# Expected Versus Actual Water Isotope Abundance\n",
    "  \n",
    "### Abstract\n",
    "  \n",
    "This notebook explores the distributional difference between expected and actual H2O molecules found in the universe through spectroscopy, using data from the splatalogue database. The proportions of heavy water (deuterium-oxygen-deuterium) and semi-heavy water (deuterium-oxygen-protium) when compared to light water (protium-oxygen-protium) observed through spectroscopy are far greater than the expected distributions of said molecules."
   ]
  },
  {
   "cell_type": "code",
   "execution_count": 1,
   "metadata": {
    "_cell_guid": "b1076dfc-b9ad-4769-8c92-a6c4dae69d19",
    "_uuid": "8f2839f25d086af736a60e9eeb907d3b93b6e0e5",
    "execution": {
     "iopub.execute_input": "2021-03-27T10:04:00.915024Z",
     "iopub.status.busy": "2021-03-27T10:04:00.914346Z",
     "iopub.status.idle": "2021-03-27T10:04:01.809734Z",
     "shell.execute_reply": "2021-03-27T10:04:01.808956Z"
    },
    "papermill": {
     "duration": 0.909719,
     "end_time": "2021-03-27T10:04:01.809928",
     "exception": false,
     "start_time": "2021-03-27T10:04:00.900209",
     "status": "completed"
    },
    "tags": []
   },
   "outputs": [],
   "source": [
    "import numpy as np \n",
    "import pandas as pd \n",
    "import seaborn as sns\n",
    "import matplotlib.pyplot as plt"
   ]
  },
  {
   "cell_type": "code",
   "execution_count": 2,
   "metadata": {
    "execution": {
     "iopub.execute_input": "2021-03-27T10:04:01.833820Z",
     "iopub.status.busy": "2021-03-27T10:04:01.833009Z",
     "iopub.status.idle": "2021-03-27T10:04:01.927200Z",
     "shell.execute_reply": "2021-03-27T10:04:01.926506Z"
    },
    "papermill": {
     "duration": 0.107811,
     "end_time": "2021-03-27T10:04:01.927343",
     "exception": false,
     "start_time": "2021-03-27T10:04:01.819532",
     "status": "completed"
    },
    "tags": []
   },
   "outputs": [],
   "source": [
    "df = pd.read_csv(r\"../input/water-astrochemistry/splatalogue_water.tsv\", sep=\"\\t\")"
   ]
  },
  {
   "cell_type": "code",
   "execution_count": 3,
   "metadata": {
    "execution": {
     "iopub.execute_input": "2021-03-27T10:04:01.961668Z",
     "iopub.status.busy": "2021-03-27T10:04:01.960988Z",
     "iopub.status.idle": "2021-03-27T10:04:01.970676Z",
     "shell.execute_reply": "2021-03-27T10:04:01.970080Z"
    },
    "papermill": {
     "duration": 0.034267,
     "end_time": "2021-03-27T10:04:01.970815",
     "exception": false,
     "start_time": "2021-03-27T10:04:01.936548",
     "status": "completed"
    },
    "tags": []
   },
   "outputs": [],
   "source": [
    "df = df[~(df.Species == \"H218Ov=0\")]"
   ]
  },
  {
   "cell_type": "code",
   "execution_count": 4,
   "metadata": {
    "execution": {
     "iopub.execute_input": "2021-03-27T10:04:02.005310Z",
     "iopub.status.busy": "2021-03-27T10:04:02.004467Z",
     "iopub.status.idle": "2021-03-27T10:04:02.009010Z",
     "shell.execute_reply": "2021-03-27T10:04:02.008382Z"
    },
    "papermill": {
     "duration": 0.029154,
     "end_time": "2021-03-27T10:04:02.009165",
     "exception": false,
     "start_time": "2021-03-27T10:04:01.980011",
     "status": "completed"
    },
    "tags": []
   },
   "outputs": [
    {
     "data": {
      "text/plain": [
       "H2Ov2,2v2,v1,v3    8608\n",
       "D2O                6576\n",
       "HDO                1401\n",
       "H2Ov=0             1376\n",
       "Name: Species, dtype: int64"
      ]
     },
     "execution_count": 4,
     "metadata": {},
     "output_type": "execute_result"
    }
   ],
   "source": [
    "df.Species.value_counts()"
   ]
  },
  {
   "cell_type": "code",
   "execution_count": 5,
   "metadata": {
    "execution": {
     "iopub.execute_input": "2021-03-27T10:04:02.040603Z",
     "iopub.status.busy": "2021-03-27T10:04:02.039636Z",
     "iopub.status.idle": "2021-03-27T10:04:02.044232Z",
     "shell.execute_reply": "2021-03-27T10:04:02.044719Z"
    },
    "papermill": {
     "duration": 0.025454,
     "end_time": "2021-03-27T10:04:02.044889",
     "exception": false,
     "start_time": "2021-03-27T10:04:02.019435",
     "status": "completed"
    },
    "tags": []
   },
   "outputs": [],
   "source": [
    "df.Species.loc[(df.Species == \"H2Ov2,2v2,v1,v3\") | (df.Species == \"H2Ov=0\")] = \"H2O\""
   ]
  },
  {
   "cell_type": "code",
   "execution_count": 6,
   "metadata": {
    "execution": {
     "iopub.execute_input": "2021-03-27T10:04:02.072589Z",
     "iopub.status.busy": "2021-03-27T10:04:02.071934Z",
     "iopub.status.idle": "2021-03-27T10:04:02.096285Z",
     "shell.execute_reply": "2021-03-27T10:04:02.095740Z"
    },
    "papermill": {
     "duration": 0.04151,
     "end_time": "2021-03-27T10:04:02.096424",
     "exception": false,
     "start_time": "2021-03-27T10:04:02.054914",
     "status": "completed"
    },
    "tags": []
   },
   "outputs": [
    {
     "data": {
      "text/html": [
       "<div>\n",
       "<style scoped>\n",
       "    .dataframe tbody tr th:only-of-type {\n",
       "        vertical-align: middle;\n",
       "    }\n",
       "\n",
       "    .dataframe tbody tr th {\n",
       "        vertical-align: top;\n",
       "    }\n",
       "\n",
       "    .dataframe thead th {\n",
       "        text-align: right;\n",
       "    }\n",
       "</style>\n",
       "<table border=\"1\" class=\"dataframe\">\n",
       "  <thead>\n",
       "    <tr style=\"text-align: right;\">\n",
       "      <th></th>\n",
       "      <th>Species</th>\n",
       "      <th>Chemical Name</th>\n",
       "      <th>Ordered Freq (GHz) (rest frame, redshifted)</th>\n",
       "      <th>Resolved QNs</th>\n",
       "      <th>CDMS/JPL Intensity</th>\n",
       "      <th>Lovas/AST Intensity</th>\n",
       "      <th>E_L (cm^-1)</th>\n",
       "      <th>E_L (K)</th>\n",
       "      <th>Linelist</th>\n",
       "    </tr>\n",
       "  </thead>\n",
       "  <tbody>\n",
       "    <tr>\n",
       "      <th>0</th>\n",
       "      <td>HDO</td>\n",
       "      <td>Water</td>\n",
       "      <td>0.01616500, 0.01616500</td>\n",
       "      <td>8(6,2)-8(6,3)</td>\n",
       "      <td>-12.6634</td>\n",
       "      <td>NaN</td>\n",
       "      <td>1105.0032</td>\n",
       "      <td>1589.8440</td>\n",
       "      <td>JPL</td>\n",
       "    </tr>\n",
       "    <tr>\n",
       "      <th>1</th>\n",
       "      <td>HDO</td>\n",
       "      <td>Water</td>\n",
       "      <td>0.03548910, 0.03548910</td>\n",
       "      <td>6(5,1)-6(5,2)</td>\n",
       "      <td>-11.1958</td>\n",
       "      <td>NaN</td>\n",
       "      <td>709.1664</td>\n",
       "      <td>1020.3264</td>\n",
       "      <td>JPL</td>\n",
       "    </tr>\n",
       "    <tr>\n",
       "      <th>2</th>\n",
       "      <td>HDO</td>\n",
       "      <td>Water</td>\n",
       "      <td>0.05461830, 0.05461830</td>\n",
       "      <td>4(4,0)-4(4,1)</td>\n",
       "      <td>-10.2126</td>\n",
       "      <td>NaN</td>\n",
       "      <td>402.3290</td>\n",
       "      <td>578.8584</td>\n",
       "      <td>JPL</td>\n",
       "    </tr>\n",
       "    <tr>\n",
       "      <th>3</th>\n",
       "      <td>HDO</td>\n",
       "      <td>Water</td>\n",
       "      <td>0.07937580, 0.07937580</td>\n",
       "      <td>9(6,3)-9(6,4)</td>\n",
       "      <td>-11.6221</td>\n",
       "      <td>NaN</td>\n",
       "      <td>1244.4371</td>\n",
       "      <td>1790.4571</td>\n",
       "      <td>JPL</td>\n",
       "    </tr>\n",
       "    <tr>\n",
       "      <th>4</th>\n",
       "      <td>HDO</td>\n",
       "      <td>Water</td>\n",
       "      <td>0.10315050, 0.10315050</td>\n",
       "      <td>12(7,5)-12(7,6)</td>\n",
       "      <td>-12.8370</td>\n",
       "      <td>NaN</td>\n",
       "      <td>1942.3733</td>\n",
       "      <td>2794.6258</td>\n",
       "      <td>JPL</td>\n",
       "    </tr>\n",
       "    <tr>\n",
       "      <th>...</th>\n",
       "      <td>...</td>\n",
       "      <td>...</td>\n",
       "      <td>...</td>\n",
       "      <td>...</td>\n",
       "      <td>...</td>\n",
       "      <td>...</td>\n",
       "      <td>...</td>\n",
       "      <td>...</td>\n",
       "      <td>...</td>\n",
       "    </tr>\n",
       "    <tr>\n",
       "      <th>18460</th>\n",
       "      <td>D2O</td>\n",
       "      <td>Water</td>\n",
       "      <td>28432.01844070, 28432.01844070</td>\n",
       "      <td>18(8,11)-17(1,16)</td>\n",
       "      <td>-7.8964</td>\n",
       "      <td>NaN</td>\n",
       "      <td>1721.9880</td>\n",
       "      <td>2477.5424</td>\n",
       "      <td>CDMS</td>\n",
       "    </tr>\n",
       "    <tr>\n",
       "      <th>18461</th>\n",
       "      <td>D2O</td>\n",
       "      <td>Water</td>\n",
       "      <td>28479.43346270, 28479.43346270</td>\n",
       "      <td>17(10,8)-16(3,13)</td>\n",
       "      <td>-7.9053</td>\n",
       "      <td>NaN</td>\n",
       "      <td>1794.5774</td>\n",
       "      <td>2581.9817</td>\n",
       "      <td>CDMS</td>\n",
       "    </tr>\n",
       "    <tr>\n",
       "      <th>18462</th>\n",
       "      <td>D2O</td>\n",
       "      <td>Water</td>\n",
       "      <td>28479.43396440, 28479.43396440</td>\n",
       "      <td>17(10,8)-16(3,13)</td>\n",
       "      <td>-7.9038</td>\n",
       "      <td>NaN</td>\n",
       "      <td>1794.5774</td>\n",
       "      <td>2581.9817</td>\n",
       "      <td>CDMS</td>\n",
       "    </tr>\n",
       "    <tr>\n",
       "      <th>18463</th>\n",
       "      <td>D2O</td>\n",
       "      <td>Water</td>\n",
       "      <td>29343.95446990, 29343.95446990</td>\n",
       "      <td>19(9,11)-18(2,16)</td>\n",
       "      <td>-7.9847</td>\n",
       "      <td>NaN</td>\n",
       "      <td>2063.5425</td>\n",
       "      <td>2968.9603</td>\n",
       "      <td>CDMS</td>\n",
       "    </tr>\n",
       "    <tr>\n",
       "      <th>18464</th>\n",
       "      <td>D2O</td>\n",
       "      <td>Water</td>\n",
       "      <td>29343.95492410, 29343.95492410</td>\n",
       "      <td>19(9,11)-18(2,16)</td>\n",
       "      <td>-7.9863</td>\n",
       "      <td>NaN</td>\n",
       "      <td>2063.5425</td>\n",
       "      <td>2968.9603</td>\n",
       "      <td>CDMS</td>\n",
       "    </tr>\n",
       "  </tbody>\n",
       "</table>\n",
       "<p>17961 rows × 9 columns</p>\n",
       "</div>"
      ],
      "text/plain": [
       "      Species Chemical Name Ordered Freq (GHz) (rest frame, redshifted)  \\\n",
       "0         HDO         Water                      0.01616500, 0.01616500   \n",
       "1         HDO         Water                      0.03548910, 0.03548910   \n",
       "2         HDO         Water                      0.05461830, 0.05461830   \n",
       "3         HDO         Water                      0.07937580, 0.07937580   \n",
       "4         HDO         Water                      0.10315050, 0.10315050   \n",
       "...       ...           ...                                         ...   \n",
       "18460     D2O         Water              28432.01844070, 28432.01844070   \n",
       "18461     D2O         Water              28479.43346270, 28479.43346270   \n",
       "18462     D2O         Water              28479.43396440, 28479.43396440   \n",
       "18463     D2O         Water              29343.95446990, 29343.95446990   \n",
       "18464     D2O         Water              29343.95492410, 29343.95492410   \n",
       "\n",
       "            Resolved QNs  CDMS/JPL Intensity Lovas/AST Intensity  E_L (cm^-1)  \\\n",
       "0          8(6,2)-8(6,3)            -12.6634                 NaN    1105.0032   \n",
       "1          6(5,1)-6(5,2)            -11.1958                 NaN     709.1664   \n",
       "2          4(4,0)-4(4,1)            -10.2126                 NaN     402.3290   \n",
       "3          9(6,3)-9(6,4)            -11.6221                 NaN    1244.4371   \n",
       "4        12(7,5)-12(7,6)            -12.8370                 NaN    1942.3733   \n",
       "...                  ...                 ...                 ...          ...   \n",
       "18460  18(8,11)-17(1,16)             -7.8964                 NaN    1721.9880   \n",
       "18461  17(10,8)-16(3,13)             -7.9053                 NaN    1794.5774   \n",
       "18462  17(10,8)-16(3,13)             -7.9038                 NaN    1794.5774   \n",
       "18463  19(9,11)-18(2,16)             -7.9847                 NaN    2063.5425   \n",
       "18464  19(9,11)-18(2,16)             -7.9863                 NaN    2063.5425   \n",
       "\n",
       "         E_L (K) Linelist  \n",
       "0      1589.8440      JPL  \n",
       "1      1020.3264      JPL  \n",
       "2       578.8584      JPL  \n",
       "3      1790.4571      JPL  \n",
       "4      2794.6258      JPL  \n",
       "...          ...      ...  \n",
       "18460  2477.5424     CDMS  \n",
       "18461  2581.9817     CDMS  \n",
       "18462  2581.9817     CDMS  \n",
       "18463  2968.9603     CDMS  \n",
       "18464  2968.9603     CDMS  \n",
       "\n",
       "[17961 rows x 9 columns]"
      ]
     },
     "execution_count": 6,
     "metadata": {},
     "output_type": "execute_result"
    }
   ],
   "source": [
    "df"
   ]
  },
  {
   "cell_type": "code",
   "execution_count": 7,
   "metadata": {
    "execution": {
     "iopub.execute_input": "2021-03-27T10:04:02.128737Z",
     "iopub.status.busy": "2021-03-27T10:04:02.127759Z",
     "iopub.status.idle": "2021-03-27T10:04:02.131770Z",
     "shell.execute_reply": "2021-03-27T10:04:02.132265Z"
    },
    "papermill": {
     "duration": 0.025397,
     "end_time": "2021-03-27T10:04:02.132430",
     "exception": false,
     "start_time": "2021-03-27T10:04:02.107033",
     "status": "completed"
    },
    "tags": []
   },
   "outputs": [
    {
     "data": {
      "text/plain": [
       "H2O    9984\n",
       "D2O    6576\n",
       "HDO    1401\n",
       "Name: Species, dtype: int64"
      ]
     },
     "execution_count": 7,
     "metadata": {},
     "output_type": "execute_result"
    }
   ],
   "source": [
    "df.Species.value_counts()"
   ]
  },
  {
   "cell_type": "markdown",
   "metadata": {
    "papermill": {
     "duration": 0.01056,
     "end_time": "2021-03-27T10:04:02.153970",
     "exception": false,
     "start_time": "2021-03-27T10:04:02.143410",
     "status": "completed"
    },
    "tags": []
   },
   "source": [
    "Calculating the abundances using the CRC Handbook of Chemistry and Physics."
   ]
  },
  {
   "cell_type": "code",
   "execution_count": 8,
   "metadata": {
    "execution": {
     "iopub.execute_input": "2021-03-27T10:04:02.183468Z",
     "iopub.status.busy": "2021-03-27T10:04:02.182697Z",
     "iopub.status.idle": "2021-03-27T10:04:02.186393Z",
     "shell.execute_reply": "2021-03-27T10:04:02.186848Z"
    },
    "papermill": {
     "duration": 0.022064,
     "end_time": "2021-03-27T10:04:02.187017",
     "exception": false,
     "start_time": "2021-03-27T10:04:02.164953",
     "status": "completed"
    },
    "tags": []
   },
   "outputs": [],
   "source": [
    "protium_abundance =   0.99985\n",
    "deuterium_abundance = 0.000115\n",
    "\n",
    "expected_h2o = protium_abundance ** 2\n",
    "expected_hdo = deuterium_abundance * protium_abundance\n",
    "expected_d2o = deuterium_abundance ** 2\n",
    "\n",
    "# Natural abundances of the isotopes from the\n",
    "# CRC Handbook of Chemistry and Physics.\n",
    "\n",
    "expected = pd.DataFrame([[\"H2O\", expected_h2o],[\"HDO\", expected_hdo], [\"D2O\", expected_d2o]], columns=[\"Molecule\", \"Abundance\"])"
   ]
  },
  {
   "cell_type": "code",
   "execution_count": 9,
   "metadata": {
    "execution": {
     "iopub.execute_input": "2021-03-27T10:04:02.218837Z",
     "iopub.status.busy": "2021-03-27T10:04:02.217903Z",
     "iopub.status.idle": "2021-03-27T10:04:02.222453Z",
     "shell.execute_reply": "2021-03-27T10:04:02.221925Z"
    },
    "papermill": {
     "duration": 0.024371,
     "end_time": "2021-03-27T10:04:02.222597",
     "exception": false,
     "start_time": "2021-03-27T10:04:02.198226",
     "status": "completed"
    },
    "tags": []
   },
   "outputs": [
    {
     "data": {
      "text/html": [
       "<div>\n",
       "<style scoped>\n",
       "    .dataframe tbody tr th:only-of-type {\n",
       "        vertical-align: middle;\n",
       "    }\n",
       "\n",
       "    .dataframe tbody tr th {\n",
       "        vertical-align: top;\n",
       "    }\n",
       "\n",
       "    .dataframe thead th {\n",
       "        text-align: right;\n",
       "    }\n",
       "</style>\n",
       "<table border=\"1\" class=\"dataframe\">\n",
       "  <thead>\n",
       "    <tr style=\"text-align: right;\">\n",
       "      <th></th>\n",
       "      <th>Abundance</th>\n",
       "    </tr>\n",
       "    <tr>\n",
       "      <th>Molecule</th>\n",
       "      <th></th>\n",
       "    </tr>\n",
       "  </thead>\n",
       "  <tbody>\n",
       "    <tr>\n",
       "      <th>H2O</th>\n",
       "      <td>9.997000e-01</td>\n",
       "    </tr>\n",
       "    <tr>\n",
       "      <th>HDO</th>\n",
       "      <td>1.149828e-04</td>\n",
       "    </tr>\n",
       "    <tr>\n",
       "      <th>D2O</th>\n",
       "      <td>1.322500e-08</td>\n",
       "    </tr>\n",
       "  </tbody>\n",
       "</table>\n",
       "</div>"
      ],
      "text/plain": [
       "             Abundance\n",
       "Molecule              \n",
       "H2O       9.997000e-01\n",
       "HDO       1.149828e-04\n",
       "D2O       1.322500e-08"
      ]
     },
     "execution_count": 9,
     "metadata": {},
     "output_type": "execute_result"
    }
   ],
   "source": [
    "expected.set_index(\"Molecule\")"
   ]
  },
  {
   "cell_type": "code",
   "execution_count": 10,
   "metadata": {
    "execution": {
     "iopub.execute_input": "2021-03-27T10:04:02.257141Z",
     "iopub.status.busy": "2021-03-27T10:04:02.255247Z",
     "iopub.status.idle": "2021-03-27T10:04:02.277255Z",
     "shell.execute_reply": "2021-03-27T10:04:02.276720Z"
    },
    "papermill": {
     "duration": 0.042789,
     "end_time": "2021-03-27T10:04:02.277402",
     "exception": false,
     "start_time": "2021-03-27T10:04:02.234613",
     "status": "completed"
    },
    "tags": []
   },
   "outputs": [],
   "source": [
    "actual = pd.DataFrame(df.Species.value_counts())\n",
    "actual.columns = [\"Observations\"]\n",
    "actual[\"Abundance\"] = actual.Observations / actual.Observations.sum()\n",
    "actual[\"Molecule\"] = actual.index"
   ]
  },
  {
   "cell_type": "code",
   "execution_count": 11,
   "metadata": {
    "execution": {
     "iopub.execute_input": "2021-03-27T10:04:02.304683Z",
     "iopub.status.busy": "2021-03-27T10:04:02.304052Z",
     "iopub.status.idle": "2021-03-27T10:04:02.493192Z",
     "shell.execute_reply": "2021-03-27T10:04:02.493700Z"
    },
    "papermill": {
     "duration": 0.204358,
     "end_time": "2021-03-27T10:04:02.493867",
     "exception": false,
     "start_time": "2021-03-27T10:04:02.289509",
     "status": "completed"
    },
    "tags": []
   },
   "outputs": [
    {
     "data": {
      "image/png": "[encoded data removed]",
      "text/plain": [
       "<Figure size 720x432 with 1 Axes>"
      ]
     },
     "metadata": {},
     "output_type": "display_data"
    }
   ],
   "source": [
    "sns.set_style(\"whitegrid\")\n",
    "bar,ax = plt.subplots(figsize=(10,6))\n",
    "ax = sns.barplot(x=expected.Molecule, y='Abundance', data=expected, ci=None, color=\"#0c6e9c\",orient='v', )\n",
    "ax.set_title(\"Expected Abundance of Light, Semi-Heavy, and Heavy Water\", fontsize=15)\n",
    "ax.set_ylabel(\"Abundance\")\n",
    "plt.show()"
   ]
  },
  {
   "cell_type": "code",
   "execution_count": 12,
   "metadata": {
    "execution": {
     "iopub.execute_input": "2021-03-27T10:04:02.556253Z",
     "iopub.status.busy": "2021-03-27T10:04:02.555235Z",
     "iopub.status.idle": "2021-03-27T10:04:02.682888Z",
     "shell.execute_reply": "2021-03-27T10:04:02.682322Z"
    },
    "papermill": {
     "duration": 0.173346,
     "end_time": "2021-03-27T10:04:02.683021",
     "exception": false,
     "start_time": "2021-03-27T10:04:02.509675",
     "status": "completed"
    },
    "tags": []
   },
   "outputs": [
    {
     "data": {
      "image/png": "[encoded data removed]",
      "text/plain": [
       "<Figure size 720x432 with 1 Axes>"
      ]
     },
     "metadata": {},
     "output_type": "display_data"
    }
   ],
   "source": [
    "bar,ax = plt.subplots(figsize=(10,6))\n",
    "ax = sns.barplot(x=actual.Molecule, y='Abundance', data=actual, ci=None, color=\"#0c6e9c\",orient='v')\n",
    "ax.set_title(\"Observed Abundance of Light, Semi-Heavy, and Heavy Water\", fontsize=15)\n",
    "ax.set_ylabel(\"Abundance\")\n",
    "plt.show()"
   ]
  }
 ],
 "metadata": {
  "kernelspec": {
   "display_name": "Python 3",
   "language": "python",
   "name": "python3"
  },
  "language_info": {
   "codemirror_mode": {
    "name": "ipython",
    "version": 3
   },
   "file_extension": ".py",
   "mimetype": "text/x-python",
   "name": "python",
   "nbconvert_exporter": "python",
   "pygments_lexer": "ipython3",
   "version": "3.7.9"
  },
  "papermill": {
   "default_parameters": {},
   "duration": 8.094609,
   "end_time": "2021-03-27T10:04:03.304917",
   "environment_variables": {},
   "exception": null,
   "input_path": "__notebook__.ipynb",
   "output_path": "__notebook__.ipynb",
   "parameters": {},
   "start_time": "2021-03-27T10:03:55.210308",
   "version": "2.2.2"
  }
 },
 "nbformat": 4,
 "nbformat_minor": 4
}
